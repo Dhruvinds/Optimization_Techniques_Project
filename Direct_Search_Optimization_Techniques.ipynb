{
  "nbformat": 4,
  "nbformat_minor": 0,
  "metadata": {
    "colab": {
      "provenance": []
    },
    "kernelspec": {
      "name": "python3",
      "display_name": "Python 3"
    },
    "language_info": {
      "name": "python"
    }
  },
  "cells": [
    {
      "cell_type": "code",
      "execution_count": null,
      "metadata": {
        "colab": {
          "base_uri": "https://localhost:8080/"
        },
        "id": "3oZscOcTP8DT",
        "outputId": "d1c957bb-1ff6-4524-9cd7-2dd6f4eafb7e"
      },
      "outputs": [
        {
          "output_type": "stream",
          "name": "stdout",
          "text": [
            "Optimal solution: [5.00002507 6.00004125]\n",
            "Optimal value: 2.3305357245313844e-09\n"
          ]
        }
      ],
      "source": [
        "# Direct Search Methods for non-linear Programming!\n",
        "\n",
        "from scipy.optimize import minimize\n",
        "\n",
        "# Given Objective Function\n",
        "\n",
        "def objective_function(x):\n",
        "    return (x[0] - 5)**2 + (x[1] - 6)**2\n",
        "\n",
        "# Initial Guess Point\n",
        "\n",
        "initial_guess = [0, 0]\n",
        "\n",
        "# Minimize the objective function using the Nelder-Mead method\n",
        "\n",
        "result = minimize(objective_function, initial_guess, method='nelder-mead')\n",
        "\n",
        "# Display Final Output\n",
        "print(\"Optimal solution:\", result.x)\n",
        "print(\"Optimal value:\",result.fun)"
      ]
    },
    {
      "cell_type": "code",
      "source": [
        "# Rosenbrock function: This is a classic benchmark function for optimization,\n",
        "# defined as f(x, y) = (x[0] - 5)**2 + (x[1] - 6)**2.\n",
        "# It has a global minimum at (0, 0) with a value of zero.\n",
        "\n",
        "from scipy.optimize import minimize\n",
        "\n",
        "# Define the Rosenbrock function\n",
        "def rosenbrock(x):\n",
        "    return (x[0] - 5)**2 + (x[1] - 6)**2\n",
        "\n",
        "# Set the initial point\n",
        "x0 = [0, 0]\n",
        "\n",
        "# Apply the Nelder-Mead method for Rosenbrock Function\n",
        "res = minimize(rosenbrock, x0, method='Nelder-Mead')\n",
        "\n",
        "#Display Final Output\n",
        "print(res)\n"
      ],
      "metadata": {
        "colab": {
          "base_uri": "https://localhost:8080/"
        },
        "id": "0PNX8YwSp8zx",
        "outputId": "5ffd48a1-d8c9-4ced-9271-604c3a265451"
      },
      "execution_count": null,
      "outputs": [
        {
          "output_type": "stream",
          "name": "stdout",
          "text": [
            "       message: Optimization terminated successfully.\n",
            "       success: True\n",
            "        status: 0\n",
            "           fun: 2.3305357245313844e-09\n",
            "             x: [ 5.000e+00  6.000e+00]\n",
            "           nit: 80\n",
            "          nfev: 155\n",
            " final_simplex: (array([[ 5.000e+00,  6.000e+00],\n",
            "                       [ 5.000e+00,  6.000e+00],\n",
            "                       [ 5.000e+00,  6.000e+00]]), array([ 2.331e-09,  5.627e-09,  8.579e-09]))\n"
          ]
        }
      ]
    },
    {
      "cell_type": "code",
      "source": [
        "# Himmelblau’s function: This is another benchmark function for optimization,\n",
        "# defined as f(x, y) = (x[0] - 5)**2 + (x[1] - 6)**2. It has four local minima.\n",
        "\n",
        "from scipy.optimize import minimize\n",
        "\n",
        "# Define the Himmelblau's function\n",
        "def himmelblau(x):\n",
        "    return (x[0] - 5)**2 + (x[1] - 6)**2\n",
        "\n",
        "# Set the initial point\n",
        "x0 = [0, 0]\n",
        "\n",
        "# Apply the Nelder-Mead method for Himmelblau Function\n",
        "res = minimize(himmelblau, x0, method='Nelder-Mead')\n",
        "\n",
        "# Display Final Output\n",
        "print(res)"
      ],
      "metadata": {
        "colab": {
          "base_uri": "https://localhost:8080/"
        },
        "id": "kLfupffhrwg3",
        "outputId": "3fd6723a-7769-4008-986e-5cdd84c24dbe"
      },
      "execution_count": null,
      "outputs": [
        {
          "output_type": "stream",
          "name": "stdout",
          "text": [
            "       message: Optimization terminated successfully.\n",
            "       success: True\n",
            "        status: 0\n",
            "           fun: 2.3305357245313844e-09\n",
            "             x: [ 5.000e+00  6.000e+00]\n",
            "           nit: 80\n",
            "          nfev: 155\n",
            " final_simplex: (array([[ 5.000e+00,  6.000e+00],\n",
            "                       [ 5.000e+00,  6.000e+00],\n",
            "                       [ 5.000e+00,  6.000e+00]]), array([ 2.331e-09,  5.627e-09,  8.579e-09]))\n"
          ]
        }
      ]
    },
    {
      "cell_type": "code",
      "source": [
        "# Simionescu’s function: This is a more challenging function for optimization,\n",
        "# defined as f(x, y) = (x[0] - 5)**2 + (x[1] - 6)**2\n",
        "# It has a global minimum at (0, 0)\n",
        "\n",
        "from scipy.optimize import minimize\n",
        "import numpy as np\n",
        "\n",
        "# Define the Simionescu's function\n",
        "def simionescu(x):\n",
        "   return (x[0] - 5)**2 + (x[1] - 6)**2\n",
        "\n",
        "# Set the initial point\n",
        "x0 = [0, 0]\n",
        "\n",
        "# Apply the Nelder-Mead method for Simionescu Function\n",
        "res = minimize(simionescu, x0, method='Nelder-Mead')\n",
        "\n",
        "# Display Final Output\n",
        "print(res)"
      ],
      "metadata": {
        "colab": {
          "base_uri": "https://localhost:8080/"
        },
        "id": "M_9CVAwhsFvu",
        "outputId": "5b0c898a-3ba4-4ff7-ed25-8ccf68b38a7a"
      },
      "execution_count": null,
      "outputs": [
        {
          "output_type": "stream",
          "name": "stdout",
          "text": [
            "       message: Optimization terminated successfully.\n",
            "       success: True\n",
            "        status: 0\n",
            "           fun: 2.3305357245313844e-09\n",
            "             x: [ 5.000e+00  6.000e+00]\n",
            "           nit: 80\n",
            "          nfev: 155\n",
            " final_simplex: (array([[ 5.000e+00,  6.000e+00],\n",
            "                       [ 5.000e+00,  6.000e+00],\n",
            "                       [ 5.000e+00,  6.000e+00]]), array([ 2.331e-09,  5.627e-09,  8.579e-09]))\n"
          ]
        }
      ]
    }
  ]
}