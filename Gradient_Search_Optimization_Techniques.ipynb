{
  "nbformat": 4,
  "nbformat_minor": 0,
  "metadata": {
    "colab": {
      "provenance": []
    },
    "kernelspec": {
      "name": "python3",
      "display_name": "Python 3"
    },
    "language_info": {
      "name": "python"
    }
  },
  "cells": [
    {
      "cell_type": "code",
      "execution_count": null,
      "metadata": {
        "colab": {
          "base_uri": "https://localhost:8080/"
        },
        "id": "vsavCtiRt7Fv",
        "outputId": "27a8c5a7-61a4-43ab-bfd1-03e8a594c4ae"
      },
      "outputs": [
        {
          "output_type": "stream",
          "name": "stdout",
          "text": [
            "Optimal solution: [4.99999998 5.99999998]\n",
            "Optimal value: 6.24820541671674e-16\n"
          ]
        }
      ],
      "source": [
        "# Gradient Search Method for Non Linear Programming\n",
        "from scipy.optimize import minimize\n",
        "\n",
        "# Objective Function\n",
        "def objective_function(x):\n",
        "    return (x[0] - 5)**2 + (x[1] - 6)**2\n",
        "\n",
        "# Constraint\n",
        "def constraint(x):\n",
        "    return 4 - x[0] - x[1]\n",
        "\n",
        "# Initial Guess\n",
        "initial_guess = [0, 0]\n",
        "\n",
        "# Define optimization problem\n",
        "problem = {\n",
        "    'type': 'ineq',\n",
        "    'fun': constraint\n",
        "}\n",
        "\n",
        "# Use the Nelder-Mead algorithm for optimization\n",
        "result = minimize(objective_function, initial_guess, method='CG', constraints=problem)\n",
        "\n",
        "# Display the result\n",
        "print(\"Optimal solution:\", result.x)\n",
        "print(\"Optimal value:\",result.fun)"
      ]
    },
    {
      "cell_type": "code",
      "source": [
        "from scipy.optimize import minimize\n",
        "import numpy as np\n",
        "\n",
        "\n",
        "# Define the Rosenbrock function\n",
        "def rosenbrock(x):\n",
        "    return (x[0] - 5)**2 + (x[1] - 6)**2\n",
        "\n",
        "# Set the initial point\n",
        "x0 = [0, 0]\n",
        "\n",
        "# Apply the steepest ascent method\n",
        "res = minimize(rosenbrock, x0, method='CG')\n",
        "\n",
        "# Print the results\n",
        "print(res)\n"
      ],
      "metadata": {
        "colab": {
          "base_uri": "https://localhost:8080/"
        },
        "id": "2wGfuv0YuA_5",
        "outputId": "145fb6fc-4458-40eb-9b3b-04503177b345"
      },
      "execution_count": null,
      "outputs": [
        {
          "output_type": "stream",
          "name": "stdout",
          "text": [
            " message: Optimization terminated successfully.\n",
            " success: True\n",
            "  status: 0\n",
            "     fun: 6.24820541671674e-16\n",
            "       x: [ 5.000e+00  6.000e+00]\n",
            "     nit: 3\n",
            "     jac: [-1.855e-08 -2.225e-08]\n",
            "    nfev: 21\n",
            "    njev: 7\n"
          ]
        }
      ]
    },
    {
      "cell_type": "code",
      "source": [
        "from scipy.optimize import minimize\n",
        "import numpy as np\n",
        "\n",
        "\n",
        "# Define the Himmelblau's function\n",
        "def himmelblau(x):\n",
        "    return (x[0] - 5)**2 + (x[1] - 6)**2\n",
        "\n",
        "# Set the initial point\n",
        "x0 = [0, 0]\n",
        "\n",
        "# Apply the Newton's method\n",
        "res = minimize(himmelblau, x0, method='CG')\n",
        "\n",
        "# Print the results\n",
        "print(res)\n"
      ],
      "metadata": {
        "colab": {
          "base_uri": "https://localhost:8080/"
        },
        "id": "z4gICAGRwpve",
        "outputId": "9cdeb72b-6618-472e-c4c8-5fb9cd8e5ef4"
      },
      "execution_count": null,
      "outputs": [
        {
          "output_type": "stream",
          "name": "stdout",
          "text": [
            " message: Optimization terminated successfully.\n",
            " success: True\n",
            "  status: 0\n",
            "     fun: 6.24820541671674e-16\n",
            "       x: [ 5.000e+00  6.000e+00]\n",
            "     nit: 3\n",
            "     jac: [-1.855e-08 -2.225e-08]\n",
            "    nfev: 21\n",
            "    njev: 7\n"
          ]
        }
      ]
    },
    {
      "cell_type": "code",
      "source": [
        "from scipy.optimize import minimize\n",
        "import numpy as np\n",
        "\n",
        "# Define the Simionescu's function\n",
        "def simionescu(x):\n",
        "     return (x[0] - 5)**2 + (x[1] - 6)**2\n",
        "\n",
        "# Set the initial point\n",
        "x0 = [0, 0]\n",
        "\n",
        "# Apply the conjugate gradient method\n",
        "res = minimize(simionescu, x0, method='CG')\n",
        "\n",
        "# Print the results\n",
        "print(res)"
      ],
      "metadata": {
        "colab": {
          "base_uri": "https://localhost:8080/"
        },
        "id": "8A0wW6cducLS",
        "outputId": "a5e4b378-2879-441d-9ff4-96d6926c0e83"
      },
      "execution_count": null,
      "outputs": [
        {
          "output_type": "stream",
          "name": "stdout",
          "text": [
            " message: Optimization terminated successfully.\n",
            " success: True\n",
            "  status: 0\n",
            "     fun: 6.24820541671674e-16\n",
            "       x: [ 5.000e+00  6.000e+00]\n",
            "     nit: 3\n",
            "     jac: [-1.855e-08 -2.225e-08]\n",
            "    nfev: 21\n",
            "    njev: 7\n"
          ]
        }
      ]
    }
  ]
}